{
  "cells": [
    {
      "cell_type": "code",
      "execution_count": null,
      "metadata": {
        "colab": {
          "base_uri": "https://localhost:8080/"
        },
        "id": "35bXOmmwwEEK",
        "outputId": "0e147c62-fbe7-4af9-a250-fb6f0af001f8"
      },
      "outputs": [],
      "source": [
        "from google.colab import drive\n",
        "drive.mount('/content/gdrive')"
      ]
    },
    {
      "cell_type": "code",
      "execution_count": null,
      "metadata": {
        "colab": {
          "base_uri": "https://localhost:8080/",
          "height": 363
        },
        "id": "BdyYuyXswQXW",
        "outputId": "3ec41154-3641-4df6-d12d-29d6315028d8"
      },
      "outputs": [],
      "source": [
        "import pandas as pd\n",
        "\n",
        "# data = \n",
        "\n",
        "display(data.tail(10))"
      ]
    },
    {
      "cell_type": "code",
      "execution_count": null,
      "metadata": {
        "colab": {
          "base_uri": "https://localhost:8080/",
          "height": 1000
        },
        "id": "kEPl4CdswYpE",
        "outputId": "2971c823-d499-4f11-855c-6d6a7ca709de"
      },
      "outputs": [],
      "source": [
        "import seaborn as sns\n",
        "import matplotlib.pyplot as plt\n",
        "\n",
        "\n",
        "# Set up the matplotlib figure\n",
        "f, ax1 = plt.subplots(figsize=(10, 5))\n",
        "\n",
        "# data_ac \n",
        "\n",
        "# sns.barplot\n",
        "\n",
        "ax1.set_title('사고건수 top 10')\n",
        "sns.despine()"
      ]
    },
    {
      "cell_type": "code",
      "execution_count": null,
      "metadata": {
        "colab": {
          "base_uri": "https://localhost:8080/"
        },
        "id": "LYw1pl4Jvuv6",
        "outputId": "547ed2db-0897-4806-9a55-602180b484b3"
      },
      "outputs": [],
      "source": [
        "!sudo apt-get install -y fonts-nanum\n",
        "!sudo fc-cache -fv\n",
        "!rm ~/.cache/matplotlib -rf"
      ]
    },
    {
      "cell_type": "code",
      "execution_count": null,
      "metadata": {
        "colab": {
          "base_uri": "https://localhost:8080/",
          "height": 488
        },
        "id": "EjaJSjSMxZBw",
        "outputId": "2e4b5c4e-e7d8-4cd0-f0ac-7c9dbbd89488"
      },
      "outputs": [],
      "source": [
        "import matplotlib as mpl\n",
        "import matplotlib.font_manager as fm\n",
        "\n",
        "import seaborn as sns\n",
        "import matplotlib.pyplot as plt\n",
        "\n",
        "plt.rc('font', family='NanumBarunGothic')\n",
        "\n",
        "# Set up the matplotlib figure\n",
        "f, ax1 = plt.subplots(figsize=(10, 5))\n",
        "\n",
        "data_ac = data.sort_values(by=['사고건수'], ascending=False)[0:10]\n",
        "\n",
        "sns.barplot(data=data_ac, x='시군구', y='사고건수')\n",
        "\n",
        "# ax1.\n",
        "# sns."
      ]
    },
    {
      "cell_type": "code",
      "execution_count": null,
      "metadata": {
        "colab": {
          "base_uri": "https://localhost:8080/",
          "height": 488
        },
        "id": "DfbiuW61zZuZ",
        "outputId": "a10ec2c3-1962-401c-b6aa-0f7d215ab752"
      },
      "outputs": [],
      "source": [
        "f, ax1 = plt.subplots(figsize=(10,5))\n",
        "\n",
        "# data_death_ac = data.sort_values\n",
        "sns.barplot(data=data_death_ac, x='시군구', y='사망자수')\n",
        "\n",
        "ax1.set_title('시군구별 사망자수')\n",
        "sns.despine()"
      ]
    },
    {
      "cell_type": "code",
      "execution_count": null,
      "metadata": {
        "colab": {
          "base_uri": "https://localhost:8080/",
          "height": 363
        },
        "id": "8iyaHna50Q_f",
        "outputId": "a82244eb-cd15-4469-e683-e76a4e68438c"
      },
      "outputs": [],
      "source": [
        "# data_ac['부상자수'] = \n",
        "display(data_ac)"
      ]
    },
    {
      "cell_type": "code",
      "execution_count": null,
      "metadata": {
        "colab": {
          "base_uri": "https://localhost:8080/",
          "height": 488
        },
        "id": "OEpk5e2r5vXJ",
        "outputId": "6fa4ac30-f590-4618-c11c-485860096bfe"
      },
      "outputs": [],
      "source": [
        "f, ax1 = plt.subplots(figsize=(10,5))\n",
        "# sns.regplot\n",
        "\n",
        "ax1.set_title('사고건수 별 부상자수')\n",
        "sns.despine()"
      ]
    },
    {
      "cell_type": "code",
      "execution_count": null,
      "metadata": {
        "colab": {
          "base_uri": "https://localhost:8080/",
          "height": 206
        },
        "id": "ZMfwWYiu0f9d",
        "outputId": "f9752802-afbf-4a1c-e018-01bedde05463"
      },
      "outputs": [],
      "source": [
        "# data_bc = data.groupby\n",
        "data_cc = data_bc.sort_values(['사망자수'],ascending=False)[0:5]\n",
        "data_cc"
      ]
    },
    {
      "cell_type": "code",
      "execution_count": null,
      "metadata": {
        "colab": {
          "base_uri": "https://localhost:8080/",
          "height": 406
        },
        "id": "QF8uBbOr8O9p",
        "outputId": "6d0d1aa5-bfb7-4b4e-d9e9-73b3881c55a7"
      },
      "outputs": [],
      "source": [
        "data_labels = data_cc['시도']\n",
        "data_sizes = data_cc['사망자수']\n",
        "\n",
        "explode = (0.1, 0, 0, 0, 0)  # only \"explode\" the 1nd slice\n",
        "\n",
        "# plt.pie\n",
        "plt.axis('equal')\n",
        "plt.show()"
      ]
    },
    {
      "cell_type": "code",
      "execution_count": 27,
      "metadata": {
        "id": "_4z3H7uz1PuL"
      },
      "outputs": [],
      "source": [
        "# data = pd.read_csv\n",
        "\n",
        "# data_db = \n",
        "\n",
        "data_type = data_db['사고유형']\n",
        "\n",
        "data_lot = data_db['경도'].astype(float)\n",
        "data_lat = data_db['위도'].astype(float)\n"
      ]
    },
    {
      "cell_type": "code",
      "execution_count": null,
      "metadata": {
        "colab": {
          "base_uri": "https://localhost:8080/"
        },
        "id": "akM3X6GLBoJO",
        "outputId": "46c8f8d8-b454-43f4-dc73-d29a7c66616b"
      },
      "outputs": [],
      "source": [
        "print('안산시 사망교통사고 건수: {0}'.format(len(data_type.index)))\n",
        "print('\\n')"
      ]
    },
    {
      "cell_type": "code",
      "execution_count": null,
      "metadata": {
        "colab": {
          "base_uri": "https://localhost:8080/"
        },
        "id": "vNW_vq20Buqy",
        "outputId": "c6097422-3707-4713-b85d-788559562351"
      },
      "outputs": [],
      "source": [
        "print(data_type.head(10))\n",
        "print('\\n')"
      ]
    },
    {
      "cell_type": "code",
      "execution_count": null,
      "metadata": {
        "colab": {
          "base_uri": "https://localhost:8080/"
        },
        "id": "-tnktyqMBGJs",
        "outputId": "752121f5-fed6-4138-9f4a-04da0ef7e068"
      },
      "outputs": [],
      "source": [
        "for i in range(0, 10) :\n",
        "    print('{0} - {1} : {2}'.format(data_type.iloc[i], data_lot.iloc[i], data_lat.iloc[i]))"
      ]
    },
    {
      "cell_type": "code",
      "execution_count": null,
      "metadata": {
        "colab": {
          "base_uri": "https://localhost:8080/",
          "height": 962
        },
        "id": "yQ5eT9rl7uEH",
        "outputId": "1250b62d-db97-448f-ab1a-4f0e17412c13"
      },
      "outputs": [],
      "source": [
        "import folium\n",
        "\n",
        "# 안산시청\n",
        "# map_osm =\n",
        "\n",
        "for i in range(0, len(data_type.index)) :\n",
        "  location = [data_lat.iloc[i], data_lot.iloc[i]]\n",
        "  folium.Marker(location, popup=data_type.iloc[i],icon=folium.Icon(icon='glyphicon glypicon-remove-sign')).add_to(map_osm)\n",
        "\n",
        "map_osm\n",
        "#map_osm.save(‘/content/gdrive/My Drive/Python/map.html’)"
      ]
    },
    {
      "cell_type": "code",
      "execution_count": null,
      "metadata": {
        "id": "cIk9reFq9vOa"
      },
      "outputs": [],
      "source": []
    }
  ],
  "metadata": {
    "colab": {
      "provenance": []
    },
    "kernelspec": {
      "display_name": "Python 3",
      "name": "python3"
    },
    "language_info": {
      "name": "python"
    }
  },
  "nbformat": 4,
  "nbformat_minor": 0
}
