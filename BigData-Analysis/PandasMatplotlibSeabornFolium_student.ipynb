{
  "cells": [
    {
      "cell_type": "code",
      "execution_count": null,
      "metadata": {
        "colab": {
          "base_uri": "https://localhost:8080/"
        },
        "id": "Em1-VsN4jHYi",
        "outputId": "81cd5b7b-5645-47a5-dfa4-a36ce1946692"
      },
      "outputs": [],
      "source": [
        "from google.colab import drive\n",
        "drive.mount('/content/gdrive')"
      ]
    },
    {
      "cell_type": "code",
      "execution_count": null,
      "metadata": {
        "colab": {
          "base_uri": "https://localhost:8080/",
          "height": 287
        },
        "id": "g61rjdP_jQfm",
        "outputId": "30b6e01e-97e6-4af1-e61e-627b5f7e8d36"
      },
      "outputs": [],
      "source": [
        "import pandas as pd\n",
        "\n",
        "# data = \n",
        "display(data) #data 같은 결과\n",
        "print(type(data))"
      ]
    },
    {
      "cell_type": "code",
      "execution_count": null,
      "metadata": {
        "colab": {
          "base_uri": "https://localhost:8080/",
          "height": 269
        },
        "id": "yGXicXDPjeVs",
        "outputId": "71a70d15-c36e-4b5d-9516-4f787bccb1d8"
      },
      "outputs": [],
      "source": [
        "# data_proceed = \n",
        "\n",
        "display(data_proceed)\n"
      ]
    },
    {
      "cell_type": "code",
      "execution_count": null,
      "metadata": {
        "colab": {
          "base_uri": "https://localhost:8080/",
          "height": 143
        },
        "id": "LqvkVCZ5j4fS",
        "outputId": "41cfe067-1a29-461c-8b68-21e93ca95ac9"
      },
      "outputs": [],
      "source": [
        "data_proceed = data.sort_values(['평균'], ascending=[False])[0:3]\n",
        "\n",
        "display(data_proceed)"
      ]
    },
    {
      "cell_type": "code",
      "execution_count": null,
      "metadata": {
        "colab": {
          "base_uri": "https://localhost:8080/",
          "height": 162
        },
        "id": "dWiKyMb2kAuc",
        "outputId": "83837602-5638-44e4-bde0-9f086947f03a"
      },
      "outputs": [],
      "source": [
        "data_proceed = data['이름']\n",
        "\n",
        "display(data_proceed)"
      ]
    },
    {
      "cell_type": "code",
      "execution_count": null,
      "metadata": {
        "colab": {
          "base_uri": "https://localhost:8080/",
          "height": 185
        },
        "id": "3AL7-kjFkmtn",
        "outputId": "96334a6f-2e7f-4fa4-f9b9-d9a9e59d19f0"
      },
      "outputs": [],
      "source": [
        "# data_proceed = \n",
        "\n",
        "display(data_proceed)\n",
        "print('\\n')\n",
        "print(len(data_proceed.index)) # print(len(data_proceed)) 결과 같음"
      ]
    },
    {
      "cell_type": "code",
      "execution_count": null,
      "metadata": {
        "colab": {
          "base_uri": "https://localhost:8080/",
          "height": 333
        },
        "id": "u2il5dHlkxtu",
        "outputId": "9376b14d-62ab-498f-8028-5ed7ee9cc873"
      },
      "outputs": [],
      "source": [
        "# data_proceed = \n",
        "\n",
        "display(data_proceed)"
      ]
    },
    {
      "cell_type": "code",
      "execution_count": null,
      "metadata": {
        "id": "YZ8dBaORlOb4"
      },
      "outputs": [],
      "source": [
        "# import "
      ]
    },
    {
      "cell_type": "code",
      "execution_count": null,
      "metadata": {
        "colab": {
          "base_uri": "https://localhost:8080/",
          "height": 248
        },
        "id": "fLHbAtBxl-JM",
        "outputId": "79a92dde-9c80-432a-e2d0-8cb4d75e44e6"
      },
      "outputs": [],
      "source": [
        "# Pie chart, where the slices will be ordered and plotted counter-clockwise:\n",
        "labels = 'Frogs', 'Hogs', 'Dogs', 'Logs'\n",
        "sizes = [15, 30, 45, 10]\n",
        "explode = (0, 0.1, 0, 0)  # only \"explode\" the 2nd slice (i.e. 'Hogs')\n",
        "\n",
        "fig1, ax1 = plt.subplots()\n",
        "ax1.pie(sizes, explode=explode, labels=labels, autopct='%.1f%%',\n",
        "        shadow=True, startangle=90)\n",
        "ax1.axis('equal')  # Equal aspect ratio ensures that pie is drawn as a circle.\n",
        "\n",
        "plt.show()"
      ]
    },
    {
      "cell_type": "code",
      "execution_count": null,
      "metadata": {
        "id": "s8eVjVyrmVXZ"
      },
      "outputs": [],
      "source": [
        "import seaborn as sns\n",
        "import matplotlib.pyplot as plt"
      ]
    },
    {
      "cell_type": "code",
      "execution_count": null,
      "metadata": {
        "colab": {
          "base_uri": "https://localhost:8080/",
          "height": 375
        },
        "id": "Jg05AAz6r75D",
        "outputId": "14c6de75-8780-4793-dfa1-698c6659ce7b"
      },
      "outputs": [],
      "source": [
        "import numpy as np\n",
        "import seaborn as sns\n",
        "import matplotlib.pyplot as plt\n",
        "sns.set_theme(style=\"white\", context=\"talk\")\n",
        "\n",
        "# Set up the matplotlib figure\n",
        "f, ax1 = plt.subplots(figsize=(7, 5))\n",
        "\n",
        "# Generate some sequential data\n",
        "x = np.array(list(\"ABCDEFGHIJ\"))\n",
        "y1 = np.arange(1, 11)\n",
        "# sns.\n",
        "ax1.axhline(0, color=\"k\", clip_on=False)\n",
        "ax1.set_ylabel(\"Sequential\")\n",
        "\n",
        "ax1.set_xlabel(\"Xlable\")\n",
        "ax1.set_title(\"Title\")\n",
        "sns.despine()"
      ]
    },
    {
      "cell_type": "code",
      "execution_count": null,
      "metadata": {
        "id": "xvDKHTUCsOrm"
      },
      "outputs": [],
      "source": [
        "import folium"
      ]
    },
    {
      "cell_type": "code",
      "execution_count": null,
      "metadata": {
        "colab": {
          "base_uri": "https://localhost:8080/",
          "height": 602
        },
        "id": "hsmIk8Ymsc0q",
        "outputId": "344e50bc-ec64-4e99-f8b6-6cfb3c7146de"
      },
      "outputs": [],
      "source": [
        "# 안산 시청 \n",
        "# map_osm = \n",
        "map_osm"
      ]
    },
    {
      "cell_type": "code",
      "execution_count": null,
      "metadata": {
        "colab": {
          "base_uri": "https://localhost:8080/",
          "height": 602
        },
        "id": "aOM_KWI9sjXx",
        "outputId": "23ab5422-6e2c-4b01-90d5-882d9ed8153f"
      },
      "outputs": [],
      "source": [
        "# 안산 시청 \n",
        "map_osm = folium.Map(location=[37.322232, 126.830899], zoom_start=16)\n",
        "map_osm\n"
      ]
    },
    {
      "cell_type": "code",
      "execution_count": null,
      "metadata": {
        "colab": {
          "base_uri": "https://localhost:8080/",
          "height": 602
        },
        "id": "FwCwJthptD3s",
        "outputId": "84a36b26-15a4-414e-9bcb-36fa8ae12b7e"
      },
      "outputs": [],
      "source": [
        "# 안산 시청 \n",
        "map_osm = folium.Map(location=[37.322232, 126.830899], zoom_start=14, #)\n",
        "map_osm"
      ]
    },
    {
      "cell_type": "code",
      "execution_count": null,
      "metadata": {
        "id": "olJxD-H0tJ1T"
      },
      "outputs": [],
      "source": [
        "# 안산 시청 \n",
        "map_osm = folium.Map(location=[37.322232, 126.830899], zoom_start=14)\n",
        "\n",
        "#folium.Marker\n",
        "#folium.Marker\n",
        "\n",
        "map_osm\n",
        "# map_osm."
      ]
    },
    {
      "cell_type": "code",
      "execution_count": null,
      "metadata": {
        "id": "I2JQ_PBHtlwd"
      },
      "outputs": [],
      "source": []
    }
  ],
  "metadata": {
    "colab": {
      "collapsed_sections": [],
      "provenance": []
    },
    "kernelspec": {
      "display_name": "Python 3",
      "name": "python3"
    },
    "language_info": {
      "name": "python"
    }
  },
  "nbformat": 4,
  "nbformat_minor": 0
}
