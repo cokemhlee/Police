{
  "cells": [
    {
      "cell_type": "code",
      "execution_count": null,
      "metadata": {
        "colab": {
          "base_uri": "https://localhost:8080/"
        },
        "id": "iDswlIIseM7c",
        "outputId": "382608a7-1d89-475a-8c75-c52ca37b747f"
      },
      "outputs": [],
      "source": [
        "!pip install requests beautifulsoup4"
      ]
    },
    {
      "cell_type": "code",
      "execution_count": null,
      "metadata": {
        "colab": {
          "base_uri": "https://localhost:8080/"
        },
        "id": "x9EVH5dCeQdf",
        "outputId": "2fbb4425-cabb-4e90-9455-a2469feb80a0"
      },
      "outputs": [],
      "source": [
        "!pip list"
      ]
    },
    {
      "cell_type": "code",
      "execution_count": null,
      "metadata": {
        "colab": {
          "base_uri": "https://localhost:8080/"
        },
        "id": "ARBnsyL8gHFe",
        "outputId": "526fc78d-6ff4-4291-94c7-89c427b47d6a"
      },
      "outputs": [],
      "source": [
        "from google.colab import drive\n",
        "# drive."
      ]
    },
    {
      "cell_type": "code",
      "execution_count": null,
      "metadata": {
        "colab": {
          "base_uri": "https://localhost:8080/"
        },
        "id": "-ghaweJJg80t",
        "outputId": "eed8fcbe-d32e-4757-bed5-0ee815f057ed"
      },
      "outputs": [],
      "source": [
        "from urllib.request import urlopen\n",
        "from bs4 import BeautifulSoup\n",
        "import time\n",
        "\n",
        "#url_front = ''\n",
        "\n",
        "visitCount = 0\n",
        "\n",
        "#file = \n",
        "\n",
        "for pageIndex in range(1, 302, 10): # 실습 시간을 고려하여 302까지만 실행 (31페이지)\n",
        "  pageUrl = '{0}{1}'.format(url_front, pageIndex)\n",
        "# html = \n",
        "# bsObject = \n",
        "  for link in bsObject.find_all('a', {'class':'news_tit'}):\n",
        "    data = link.get('title') + '\\n'\n",
        "    file.write(data)\n",
        "\n",
        "  visitCount += 1\n",
        "  print('Read {0} page...'.format(visitCount))\n",
        "\n",
        "  time.sleep(3)\n",
        "file.close()\n",
        "print('모든 데이터가 수집되었습니다.')"
      ]
    },
    {
      "cell_type": "code",
      "execution_count": null,
      "metadata": {
        "colab": {
          "base_uri": "https://localhost:8080/"
        },
        "id": "lzAD1kTCi-th",
        "outputId": "7e928b74-c4d2-463f-f0fb-a85b611f583e"
      },
      "outputs": [],
      "source": [
        "!pip install konlpy"
      ]
    },
    {
      "cell_type": "code",
      "execution_count": null,
      "metadata": {
        "id": "YQe8AfTps4Ht"
      },
      "outputs": [],
      "source": [
        "from konlpy.tag import Twitter\n",
        "from collections import Counter\n",
        "from wordcloud import WordCloud\n",
        "import matplotlib.pyplot as plt"
      ]
    },
    {
      "cell_type": "code",
      "execution_count": null,
      "metadata": {
        "colab": {
          "base_uri": "https://localhost:8080/",
          "height": 1000
        },
        "id": "TboKOiSXuUwQ",
        "outputId": "dcf24420-dc2f-48c7-9324-5e8f387ad1ff"
      },
      "outputs": [],
      "source": [
        "# 수집한 데이터 title_list 리스트에 넣기\n",
        "title_list = []\n",
        " \n",
        "# with :\n",
        "\n",
        "\n",
        "# 형태소 분석하여 sentences_tag 리스트에 넣기\n",
        "twitter = Twitter()\n",
        "sentences_tag = []\n",
        "\n",
        "# for :\n",
        "#   \n",
        "    sentences_tag.append(morph)\n",
        "    print(morph)\n",
        "    print('-'*3)\n",
        "\n",
        "print(sentences_tag)\n",
        "print('\\n'*3)\n",
        "\n",
        "# 명사와 형용사만 구분하여 noun_adj_list 리스트에 넣기\n",
        "noun_adj_list = []\n",
        "\n",
        "for sentence1 in sentences_tag :\n",
        "    for word, tag in sentence1 :\n",
        "        if tag in ['Noun', 'Adjective'] :\n",
        "            noun_adj_list.append(word)\n",
        "\n",
        "# 형태소별 단어 카운트 및 상위 30개 단어 tags 리스트에 넣기\n",
        "counts = Counter(noun_adj_list)\n",
        "tags = counts.most_common(30)\n",
        "print(tags)\n",
        "\n",
        "# 한글 깨지는 문제 해결하기 위해 폰트 설정\n",
        "# wc = \n",
        "\n",
        "# 워드 클라우드 생성\n",
        "# cloud = \n",
        "plt.figure(figsize=(10,8))\n",
        "plt.axis('off')\n",
        "# plt.\n",
        "plt.show()"
      ]
    },
    {
      "cell_type": "code",
      "execution_count": null,
      "metadata": {
        "id": "wmx3WtSLue1O"
      },
      "outputs": [],
      "source": []
    }
  ],
  "metadata": {
    "colab": {
      "collapsed_sections": [],
      "provenance": []
    },
    "kernelspec": {
      "display_name": "Python 3",
      "name": "python3"
    },
    "language_info": {
      "name": "python"
    }
  },
  "nbformat": 4,
  "nbformat_minor": 0
}
