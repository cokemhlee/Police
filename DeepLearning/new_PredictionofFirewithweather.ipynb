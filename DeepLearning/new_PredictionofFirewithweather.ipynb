{
  "nbformat": 4,
  "nbformat_minor": 0,
  "metadata": {
    "colab": {
      "provenance": [],
      "collapsed_sections": []
    },
    "kernelspec": {
      "name": "python3",
      "display_name": "Python 3"
    },
    "language_info": {
      "name": "python"
    },
    "accelerator": "GPU",
    "gpuClass": "standard"
  },
  "cells": [
    {
      "cell_type": "code",
      "source": [
        "# 필요한 모듈 임포트\n",
        "import requests\n",
        "from bs4 import BeautifulSoup\n",
        "import numpy as np\n",
        "import pandas as pd"
      ],
      "metadata": {
        "id": "3ES3-4n78deK"
      },
      "execution_count": null,
      "outputs": []
    },
    {
      "cell_type": "code",
      "source": [
        "# 기상관측 자료 로딩\n",
        "obs_list = ############## 여기에 ################\n",
        "\n",
        "obs_list"
      ],
      "metadata": {
        "id": "6RlLQjZuu3Fv"
      },
      "execution_count": null,
      "outputs": []
    },
    {
      "cell_type": "code",
      "source": [
        "# 데이터 컬럼 및 타입 확인\n",
        "obs_list.############## 여기에 ################\n"
      ],
      "metadata": {
        "id": "YmntiahwxMar"
      },
      "execution_count": null,
      "outputs": []
    },
    {
      "cell_type": "code",
      "source": [
        "# 컬럼명 변경\n",
        "obs_list.columns = ['지점','지점명','일시','최고기온','최고풍속']"
      ],
      "metadata": {
        "id": "lcXSXruCxyWb"
      },
      "execution_count": null,
      "outputs": []
    },
    {
      "cell_type": "code",
      "source": [
        "# 데이터 타입 변경\n",
        "obs_list['지점'] = obs_list['지점'].astype(object)\n",
        "obs_list['지점명'] = obs_list['지점명'].astype(object)\n",
        "obs_list['최고기온'] = obs_list['최고기온'].astype(float)\n",
        "obs_list['최고풍속'] = obs_list['최고풍속'].astype(float)\n",
        "obs_list['일시'] = pd.to_datetime(obs_list['일시'], format='%Y-%m-%d')\n",
        "obs_list.info()"
      ],
      "metadata": {
        "id": "Tb0pD9sPxSKf"
      },
      "execution_count": null,
      "outputs": []
    },
    {
      "cell_type": "code",
      "source": [
        "# 화재발생 시군구와 매칭하기 위하여 기상관측지점명 전체 집합(Set) 생성\n",
        "obs_branch_set = set(obs_list['지점명'])\n",
        "print(len(obs_branch_set))\n",
        "print(obs_branch_set)"
      ],
      "metadata": {
        "id": "SEyLH6JOwweU"
      },
      "execution_count": null,
      "outputs": []
    },
    {
      "cell_type": "code",
      "source": [
        "# 소방청 국가화재정보 시도단위 화재발생현황목록 로딩\n",
        "fire_list = pd.read_csv('/content/화재발생정보2017.csv', encoding='euc-kr')\n",
        "fire_list"
      ],
      "metadata": {
        "id": "1UvTHpi2lDLf"
      },
      "execution_count": null,
      "outputs": []
    },
    {
      "cell_type": "code",
      "source": [
        "fire_list.info()"
      ],
      "metadata": {
        "id": "1K_pwLCDPSfD"
      },
      "execution_count": null,
      "outputs": []
    },
    {
      "cell_type": "code",
      "source": [
        "# 학습에 필요없는 컬럼 제거\n",
        "fire_list.drop(['연번', '사망', '부상', '인명피해(명)소계', '시도', '읍면동', '장소대분류', '부동산', '동산', '장소대분류', '장소중분류', '장소소분류'],axis=1,inplace=True)\n",
        "fire_list"
      ],
      "metadata": {
        "id": "_UIbkNiUmxUd"
      },
      "execution_count": null,
      "outputs": []
    },
    {
      "cell_type": "code",
      "source": [
        "# 기상관측자료의 관측일시(연월일만 존재)와 매칭하기 위해서 화재발생년월일 중 시간 정보 삭제\n",
        "def date_convert(x):\n",
        "  split_x = x.split()\n",
        "  return split_x[0]\n",
        "\n",
        "fire_list['화재발생년월일']=fire_list['화재발생년월일'].apply(date_convert)\n",
        "fire_list"
      ],
      "metadata": {
        "id": "ZVNznadtyyKU"
      },
      "execution_count": null,
      "outputs": []
    },
    {
      "cell_type": "code",
      "source": [
        "# 데이터 타입 확인\n",
        "fire_list.info()"
      ],
      "metadata": {
        "id": "8JlbYDtXz74b"
      },
      "execution_count": null,
      "outputs": []
    },
    {
      "cell_type": "code",
      "source": [
        "# 데이터 타입 변환\n",
        "fire_list['화재발생년월일'] = pd.to_datetime(fire_list['화재발생년월일'], format='%Y-%m-%d')\n",
        "fire_list.info()"
      ],
      "metadata": {
        "id": "-HaMMu1K44cA"
      },
      "execution_count": null,
      "outputs": []
    },
    {
      "cell_type": "code",
      "source": [
        "# 기상관측자료의 지점명과 매칭시키기 위해 (시군구 등 행정단위가 없음) 화재발생자료의 시군구 컬럼에서 행정단위 제거 및 기상관측지점명과 매칭\n",
        "def trunk_region(x) :\n",
        "  for region in obs_branch_set:  \n",
        "    if region in x:      \n",
        "      return region\n",
        "  return np.NaN\n",
        "\n",
        "fire_list['시군구'] = fire_list['시군구'].apply(trunk_region)\n",
        "fire_list"
      ],
      "metadata": {
        "id": "B3yJc4DqvgdU"
      },
      "execution_count": null,
      "outputs": []
    },
    {
      "cell_type": "code",
      "source": [
        "# 매칭 안된 시군구 갯수 확인\n",
        "fire_list.isna().sum()"
      ],
      "metadata": {
        "id": "ADaMq0OKy92T"
      },
      "execution_count": null,
      "outputs": []
    },
    {
      "cell_type": "code",
      "source": [
        "# 매칭 안된 화재발생 자료 삭제\n",
        "fire_list.dropna(axis=0, inplace=True)\n",
        "fire_list.isna().sum()"
      ],
      "metadata": {
        "id": "iNPdutxUzCQj"
      },
      "execution_count": null,
      "outputs": []
    },
    {
      "cell_type": "code",
      "source": [
        "fire_list"
      ],
      "metadata": {
        "id": "4pbw345AzMDD"
      },
      "execution_count": null,
      "outputs": []
    },
    {
      "cell_type": "code",
      "source": [
        "# 매칭된 시군구 및 갯수 확인\n",
        "print(fire_list['시군구'].unique())\n",
        "print(fire_list['시군구'].nunique())"
      ],
      "metadata": {
        "id": "_JWits3BtD52"
      },
      "execution_count": null,
      "outputs": []
    },
    {
      "cell_type": "code",
      "source": [
        "# 기상관측자료와 화재발생자료를 시군구 및 화재발생년월일을 기준으로 조인\n",
        "fire_obs_list = pd.merge(left = fire_list , right = obs_list, left_on = ['시군구','화재발생년월일'], right_on = ['지점명','일시'], how = \"inner\")\n",
        "fire_obs_list"
      ],
      "metadata": {
        "id": "UyNME-iPv0Pt"
      },
      "execution_count": null,
      "outputs": []
    },
    {
      "cell_type": "code",
      "source": [
        "# 결측값 갯수 확인\n",
        "fire_obs_list.isna().sum()"
      ],
      "metadata": {
        "id": "DfY609le0-vj"
      },
      "execution_count": null,
      "outputs": []
    },
    {
      "cell_type": "code",
      "source": [
        "# 결측데이터 삭제\n",
        "fire_obs_list.dropna(axis=0,inplace=True)"
      ],
      "metadata": {
        "id": "l2VotItu65H0"
      },
      "execution_count": null,
      "outputs": []
    },
    {
      "cell_type": "code",
      "source": [
        "fire_obs_list.info()"
      ],
      "metadata": {
        "id": "rheLihfV1Brr"
      },
      "execution_count": null,
      "outputs": []
    },
    {
      "cell_type": "code",
      "source": [
        "# 중복 컬럼 삭제\n",
        "fire_obs_list.drop(['지점','지점명','일시'],axis=1, inplace=True)\n",
        "fire_obs_list"
      ],
      "metadata": {
        "id": "fZN3ZLW41jJ6"
      },
      "execution_count": null,
      "outputs": []
    },
    {
      "cell_type": "code",
      "source": [
        "# 특징과 정답(label) 추출\n",
        "x_data = fire_obs_list[['최고기온','최고풍속']]\n",
        "y_data = fire_obs_list['재산피해소계']"
      ],
      "metadata": {
        "id": "JYKRAs2L2vQq"
      },
      "execution_count": null,
      "outputs": []
    },
    {
      "cell_type": "code",
      "source": [
        "x_data"
      ],
      "metadata": {
        "id": "ePVrVdY13HUL"
      },
      "execution_count": null,
      "outputs": []
    },
    {
      "cell_type": "code",
      "source": [
        "y_data"
      ],
      "metadata": {
        "id": "Dzvntj_J3JDT"
      },
      "execution_count": null,
      "outputs": []
    },
    {
      "cell_type": "code",
      "source": [
        "# 학습집합과 테스트집합 분리 (30%)\n",
        "from sklearn.model_selection import train_test_split\n",
        "\n",
        "x_train, x_test, y_train, y_test = # 여기에 #"
      ],
      "metadata": {
        "id": "XtXPMyuj2hns"
      },
      "execution_count": null,
      "outputs": []
    },
    {
      "cell_type": "code",
      "source": [
        "# 분리된 갯수 확인\n",
        "print(x_train.shape); print(x_test.shape); print(y_train.shape); print(y_test.shape)"
      ],
      "metadata": {
        "id": "S6iRIl2-3LiT"
      },
      "execution_count": null,
      "outputs": []
    },
    {
      "cell_type": "code",
      "source": [
        "# 데이터 스케일 조정\n",
        "\n",
        "from sklearn.preprocessing import StandardScaler\n",
        "scaler = StandardScaler()\n",
        "scaler.fit(x_train)\n",
        "\n",
        "x_train_scaled = scaler.transform(x_train)\n",
        "x_test_scaled = scaler.transform(x_test)"
      ],
      "metadata": {
        "id": "-uENqCqc-8tl"
      },
      "execution_count": null,
      "outputs": []
    },
    {
      "cell_type": "code",
      "source": [
        "x_train_scaled"
      ],
      "metadata": {
        "id": "zcp01iE6_krc"
      },
      "execution_count": null,
      "outputs": []
    },
    {
      "cell_type": "code",
      "source": [
        "x_test_scaled"
      ],
      "metadata": {
        "id": "LFB12LvE_mj7"
      },
      "execution_count": null,
      "outputs": []
    },
    {
      "cell_type": "code",
      "source": [
        "# 모델 정의를 위한 모듈 임포트\n",
        "import tensorflow as tf\n",
        "from tensorflow.keras import Sequential\n",
        "from tensorflow.keras.layers import Dense"
      ],
      "metadata": {
        "id": "0PCy_BOCqnEH"
      },
      "execution_count": null,
      "outputs": []
    },
    {
      "cell_type": "code",
      "source": [
        "# 텐서플로우 학습데이터셋 생성\n",
        "train_dataset = tf.data.Dataset.from_tensor_slices((x_train_scaled, y_train.values))\n",
        "train_dataset = train_dataset.shuffle(len(train_dataset)).batch(1)"
      ],
      "metadata": {
        "id": "bzOX6U05qhc3"
      },
      "execution_count": null,
      "outputs": []
    },
    {
      "cell_type": "code",
      "source": [
        "# 화재 발생 건수 예측 모델 정의 (지역별 최고 기온, 최대 풍속을 입력 특징으로 하고 화재 발생 피해액 예측)\n",
        "\n",
        "model = Sequential()\n",
        "\n",
        "############## 여기에 ################\n",
        "\n",
        "model.summary()"
      ],
      "metadata": {
        "id": "TXoiTusHpTOQ"
      },
      "execution_count": null,
      "outputs": []
    },
    {
      "cell_type": "code",
      "source": [
        "# 모델 학습\n",
        "model.compile(loss='MeanAbsoluteError', optimizer='Adam')\n",
        "hist = ############## 여기에 ################\n"
      ],
      "metadata": {
        "id": "ErVZalYVdGvL"
      },
      "execution_count": null,
      "outputs": []
    },
    {
      "cell_type": "code",
      "source": [
        "# 학습과정 가시화\n",
        "import matplotlib.pyplot as plt\n",
        "\n",
        "plt.plot(hist.history['loss'])\n",
        "plt.show()\n"
      ],
      "metadata": {
        "colab": {
          "base_uri": "https://localhost:8080/",
          "height": 265
        },
        "id": "k_jb6wZJtrvW",
        "outputId": "bc2a7bd8-2138-4d44-dd43-02489b5a7134"
      },
      "execution_count": null,
      "outputs": [
        {
          "output_type": "display_data",
          "data": {
            "text/plain": [
              "<Figure size 432x288 with 1 Axes>"
            ],
            "image/png": "[encoded data removed]"
          },
          "metadata": {
            "needs_background": "light"
          }
        }
      ]
    },
    {
      "cell_type": "code",
      "source": [
        "# 모델 평가\n",
        "test_dataset = tf.data.Dataset.from_tensor_slices((x_test_scaled, y_test.values))\n",
        "test_dataset = test_dataset.shuffle(len(test_dataset)).batch(1)\n",
        "results = ############## 여기에 ################\n",
        "print(f\"test loss: {results}\")"
      ],
      "metadata": {
        "id": "xDTi6KkydINz"
      },
      "execution_count": null,
      "outputs": []
    },
    {
      "cell_type": "code",
      "source": [
        "# 추론\n",
        "real_data = scaler.transform([[30.4,25.0]])\n",
        "y_pred = ############## 여기에 ################\n",
        "print(y_pred)"
      ],
      "metadata": {
        "id": "C_O9ytIrdLL7"
      },
      "execution_count": null,
      "outputs": []
    }
  ]
}