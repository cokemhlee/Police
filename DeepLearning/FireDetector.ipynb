{
  "nbformat": 4,
  "nbformat_minor": 0,
  "metadata": {
    "colab": {
      "provenance": [],
      "collapsed_sections": []
    },
    "kernelspec": {
      "name": "python3",
      "display_name": "Python 3"
    },
    "language_info": {
      "name": "python"
    },
    "accelerator": "GPU",
    "gpuClass": "standard"
  },
  "cells": [
    {
      "cell_type": "code",
      "execution_count": 1,
      "metadata": {
        "id": "JYgOWFeIpmTQ"
      },
      "outputs": [],
      "source": [
        "# Kaggle API 라이브러리 인스톨\n",
        "! pip install -q kaggle"
      ]
    },
    {
      "cell_type": "code",
      "source": [
        "# Kaggle API 호출을 위한 API Key 업로드\n",
        "from google.colab import files\n",
        "files.upload()\n",
        "! mkdir ~/.kaggle\n",
        "! cp kaggle.json ~/.kaggle/\n",
        "! chmod 600 ~/.kaggle/kaggle.json\n",
        "! kaggle datasets list"
      ],
      "metadata": {
        "id": "XiP_3O-fpyXe"
      },
      "execution_count": null,
      "outputs": []
    },
    {
      "cell_type": "code",
      "source": [
        "# 학습 데이터 다운로드 및 압축풀기\n",
        "\n",
        "! kaggle datasets download -d phylake1337/fire-dataset\n",
        "! unzip fire-dataset.zip"
      ],
      "metadata": {
        "id": "4nqhuI56p9xG"
      },
      "execution_count": null,
      "outputs": []
    },
    {
      "cell_type": "code",
      "source": [
        "import numpy as np\n",
        "import pandas as pd\n",
        "import seaborn as sns\n",
        "\n",
        "import plotly.express as px\n",
        "import plotly.graph_objects as go\n",
        "from plotly.subplots import make_subplots\n",
        "\n",
        "import tensorflow as tf\n",
        "from tensorflow.keras.preprocessing import image\n",
        "\n",
        "sns.set_style('darkgrid')"
      ],
      "metadata": {
        "id": "PkXTKGPpsG8O"
      },
      "execution_count": 6,
      "outputs": []
    },
    {
      "cell_type": "code",
      "source": [
        "# 데이터 프레임 만들기 (파일 위치, 레이블)\n",
        "\n",
        "import pandas as pd\n",
        "import os\n",
        "\n",
        "# 빈 데이터프레임 생성\n",
        "df = pd.DataFrame(columns=['path','label'])\n",
        "\n",
        "# fire 이미지와 레이블 'fire'\n",
        "for dirname, _, filenames in os.walk('/content/fire_dataset/fire_images'):\n",
        "    for filename in filenames:\n",
        "        #print(os.path.join(dirname, filename))\n",
        "        df = df.append(pd.DataFrame([[os.path.join(dirname, filename),'fire']],columns=['path','label']))\n",
        "\n",
        "# non-fire 이미지와 레이블 'non_file'\n",
        "for dirname, _, filenames in os.walk('/content/fire_dataset/non_fire_images'):\n",
        "    for filename in filenames:\n",
        "        df = df.append(pd.DataFrame([[os.path.join(dirname, filename),'non_fire']],columns=['path','label']))\n",
        "        #print(os.path.join(dirname, filename))\n",
        "\n",
        "# 학습을 위한 데이터 섞기\n",
        "df = df.sample(frac=1).reset_index(drop=True)\n",
        "df.head(10)"
      ],
      "metadata": {
        "id": "Inm1fsTQsONG"
      },
      "execution_count": null,
      "outputs": []
    },
    {
      "cell_type": "code",
      "source": [
        "# 데이터 비율 확인\n",
        "import seaborn as sns\n",
        "sns.########### 여기에 ################"
      ],
      "metadata": {
        "id": "iI09gMmYs-WG"
      },
      "execution_count": null,
      "outputs": []
    },
    {
      "cell_type": "code",
      "source": [
        "# fire 이미지 샘플 확인\n",
        "import matplotlib.pyplot as plt\n",
        "\n",
        "label = 'fire'\n",
        "data = df[df['label'] == label]\n",
        "#sns.set_style('dark')\n",
        "\n",
        "pics = 6 # 샘플 갯수\n",
        "fig,ax = plt.subplots(int(pics//2),2,figsize=(15,15))\n",
        "plt.suptitle('Images with Fire')\n",
        "ax = ax.ravel()\n",
        "for i in range((pics//2)*2):\n",
        "    path = data.sample(1).loc[:,'path'].to_numpy()[0]\n",
        "    img = image.load_img(path)\n",
        "    img = image.img_to_array(img)/255\n",
        "    ########### 여기에 ################\n",
        "    ax[i].axes.xaxis.set_visible(False)\n",
        "    ax[i].axes.yaxis.set_visible(False)"
      ],
      "metadata": {
        "id": "A2LG4YwS3fjk"
      },
      "execution_count": null,
      "outputs": []
    },
    {
      "cell_type": "code",
      "source": [
        "# non-fire 이미지 샘플 확인\n",
        "\n",
        "label = 'non_fire'\n",
        "data = df[df['label'] == label]\n",
        "#sns.set_style('dark')\n",
        "\n",
        "pics = 6 # 샘플 갯수\n",
        "fig,ax = plt.subplots(int(pics//2),2,figsize=(15,15))\n",
        "plt.suptitle('Images with Fire')\n",
        "ax = ax.ravel()\n",
        "for i in range((pics//2)*2):\n",
        "    path = data.sample(1).loc[:,'path'].to_numpy()[0]\n",
        "    img = image.load_img(path)\n",
        "    img = image.img_to_array(img)/255\n",
        "    ax[i].imshow(img)\n",
        "    ax[i].axes.xaxis.set_visible(False)\n",
        "    ax[i].axes.yaxis.set_visible(False)"
      ],
      "metadata": {
        "id": "izV0cAxO3txp"
      },
      "execution_count": null,
      "outputs": []
    },
    {
      "cell_type": "markdown",
      "source": [
        "# 이미지 크기 조정 필요"
      ],
      "metadata": {
        "id": "SJN59P2w5jPa"
      }
    },
    {
      "cell_type": "code",
      "source": [
        "# 데이터 증강 (Augmentation)\n",
        "\n",
        "from tensorflow.keras.preprocessing.image import ImageDataGenerator\n",
        "\n",
        "generator = ImageDataGenerator(  \n",
        "    rotation_range= 20,\n",
        "    width_shift_range=0.1,\n",
        "    height_shift_range=0.1,\n",
        "    shear_range = 2,\n",
        "    zoom_range=0.2,\n",
        "    rescale = 1/255,\n",
        "    validation_split=0.2,\n",
        ")\n"
      ],
      "metadata": {
        "id": "L8J-f7Z6HOEt"
      },
      "execution_count": null,
      "outputs": []
    },
    {
      "cell_type": "code",
      "source": [
        "# 학습 집합과 검증 집합 생성\n",
        "# ImageDataGenerator가 자동으로 레이블을 인코딩\n",
        "train_gen = generator.flow_from_dataframe(df,x_col='path',y_col='label',images_size=(256,256),class_mode='binary',subset='training') \n",
        "val_gen = generator.flow_from_dataframe(df,x_col='path',y_col='label',images_size=(256,256),class_mode='binary',subset='validation')"
      ],
      "metadata": {
        "id": "qmpWG0-mKm9v"
      },
      "execution_count": null,
      "outputs": []
    },
    {
      "cell_type": "code",
      "source": [
        "# ImageDataGenerator가 생성한 레이블 확인\n",
        "\n",
        "class_indices = {}\n",
        "for key in train_gen.class_indices.keys():\n",
        "    class_indices[train_gen.class_indices[key]] = key\n",
        "    \n",
        "print(class_indices)"
      ],
      "metadata": {
        "id": "Y1Q2CLMMKpfH"
      },
      "execution_count": null,
      "outputs": []
    },
    {
      "cell_type": "code",
      "source": [
        "# ImageDataGenerator가 생성한 이미지 확인\n",
        "\n",
        "pics = 6 # 샘플 갯수\n",
        "fig,ax = plt.subplots(int(pics//2),2,figsize=(15,15))\n",
        "plt.suptitle('Generated images in training set')\n",
        "ax = ax.ravel()\n",
        "for i in range((pics//2)*2):\n",
        "    ax[i].imshow(train_gen[0][0][i])\n",
        "    ax[i].axes.xaxis.set_visible(False)\n",
        "    ax[i].axes.yaxis.set_visible(False)"
      ],
      "metadata": {
        "id": "c_QwoILCLdKm"
      },
      "execution_count": null,
      "outputs": []
    },
    {
      "cell_type": "code",
      "source": [
        "# 모델 정의\n",
        "\n",
        "from tensorflow.keras.models import Sequential\n",
        "from tensorflow.keras.layers import Conv2D, MaxPool2D, Flatten, Dense\n",
        "\n",
        "model = Sequential()\n",
        "########### 여기에 ################  #왜 3일까요?\n",
        "########### 여기에 ################\n",
        "########### 여기에 ################\n",
        "########### 여기에 ################\n",
        "########### 여기에 ################\n",
        "########### 여기에 ################\n",
        "########### 여기에 ################\n",
        "########### 여기에 ################\n",
        "########### 여기에 ################\n",
        "########### 여기에 ################ #왜 sigmoid일까요?\n",
        "\n",
        "# 앞 부분에는 노이즈가 많으므로 적은 필터를 사용하고 깊은 층으로 갈수록 더 많은 특징을 추출하기 위해 필터 수를 늘입니다."
      ],
      "metadata": {
        "id": "LoQHjxyvLsfl"
      },
      "execution_count": null,
      "outputs": []
    },
    {
      "cell_type": "code",
      "source": [
        "# 모델 구조 요약\n",
        "\n",
        "model.summary()"
      ],
      "metadata": {
        "id": "j9Ue4LJ9M73O"
      },
      "execution_count": null,
      "outputs": []
    },
    {
      "cell_type": "code",
      "source": [
        "# 모델 컴파일\n",
        "\n",
        "from tensorflow.keras.metrics import Recall,AUC\n",
        "from tensorflow.keras.utils import plot_model\n",
        "\n",
        "########### 여기에 ################ # 왜 binary_crossentrophy 일까요?  # 왜 Recall이 중요할까요?"
      ],
      "metadata": {
        "id": "Xj2RL9elM_I9"
      },
      "execution_count": null,
      "outputs": []
    },
    {
      "cell_type": "code",
      "source": [
        "# 조기종료 적용\n",
        "\n",
        "from tensorflow.keras.callbacks import EarlyStopping, ReduceLROnPlateau\n",
        "\n",
        "early_stoppping = EarlyStopping(monitor='val_loss',patience=5,restore_best_weights=True)"
      ],
      "metadata": {
        "id": "K6ljKLaiNGh2"
      },
      "execution_count": null,
      "outputs": []
    },
    {
      "cell_type": "code",
      "source": [
        "# 학습\n",
        "########### 여기에 ################"
      ],
      "metadata": {
        "id": "MQj-5CZmP5MV"
      },
      "execution_count": null,
      "outputs": []
    },
    {
      "cell_type": "code",
      "source": [
        "# 학습 그래프 보기\n",
        "\n",
        "history= model.history.history\n",
        "px.line(history,title = \"Metrics Plot\")"
      ],
      "metadata": {
        "id": "HMGa6zbtQAKV"
      },
      "execution_count": null,
      "outputs": []
    },
    {
      "cell_type": "code",
      "source": [
        "# 모델 평가\n",
        "########### 여기에 ################\n",
        "for metric in eval_list.keys():\n",
        "    print(metric+f\": {eval_list[metric]:.2f}\")\n",
        "\n",
        "# 잘한 것일까요?"
      ],
      "metadata": {
        "id": "LZiQuCqGQcpe"
      },
      "execution_count": null,
      "outputs": []
    },
    {
      "cell_type": "markdown",
      "source": [
        "직접 모델을 개발하는 대신 누군가가 만들어 놓은 사전학습 모델을 사용해 봅시다."
      ],
      "metadata": {
        "id": "VTwmXk00Q6s9"
      }
    },
    {
      "cell_type": "code",
      "source": [
        "from tensorflow.keras.applications import Xception\n",
        "from tensorflow.keras.models import Model\n",
        "from tensorflow.keras.layers import Dropout\n",
        "\n",
        "\n",
        "# 사전학습 모델 다운로드 및 산불화재탐지 모델 정의\n",
        "########### 여기에 ################\n",
        "########### 여기에 ################\n",
        "\n",
        "#turn off training\n",
        "xception.trainable = False\n",
        "\n",
        "x = Flatten()(xception.output)\n",
        "x = Dense(64,activation = 'relu')(x)\n",
        "output_to_model = Dense(1,activation = 'sigmoid')(x)\n",
        "model2 = Model(inputs = input_to_model,outputs = output_to_model)"
      ],
      "metadata": {
        "id": "w39UTOuERCH7"
      },
      "execution_count": null,
      "outputs": []
    },
    {
      "cell_type": "code",
      "source": [
        "# 모델 컴파일\n",
        "\n",
        "model2.compile(optimizer = 'adam',loss = 'binary_crossentropy',metrics = ['accuracy',Recall(),AUC()])"
      ],
      "metadata": {
        "id": "N_fqPpW6RgH7"
      },
      "execution_count": null,
      "outputs": []
    },
    {
      "cell_type": "code",
      "source": [
        "# 학습\n",
        "history2 = model2.fit(x = train_gen,batch_size=32,epochs=15,callbacks = [early_stoppping],validation_data = val_gen)\n"
      ],
      "metadata": {
        "id": "muziRhgRRskc"
      },
      "execution_count": null,
      "outputs": []
    },
    {
      "cell_type": "code",
      "source": [
        "# 학습 그래프 보기\n",
        "\n",
        "px.line(history,title='Metrics Plot')"
      ],
      "metadata": {
        "id": "DnO1AeipRyRc"
      },
      "execution_count": null,
      "outputs": []
    },
    {
      "cell_type": "code",
      "source": [
        "# 모델 평가\n",
        "\n",
        "eval_list = model.evaluate(val_gen,return_dict=True)\n",
        "for metric in eval_list.keys():\n",
        "    print(metric+f\": {eval_list[metric]:.2f}\")"
      ],
      "metadata": {
        "id": "O7XYFrN8R6is"
      },
      "execution_count": null,
      "outputs": []
    },
    {
      "cell_type": "markdown",
      "source": [],
      "metadata": {
        "id": "RolSJD8nL-tM"
      }
    },
    {
      "cell_type": "markdown",
      "source": [
        "학습된 모델로 인터넷에서 다운로드 받은 사진을 탐지해 봅시다."
      ],
      "metadata": {
        "id": "lbI_p8_nSBnU"
      }
    },
    {
      "cell_type": "code",
      "source": [
        "# 이미지 다운로드\n",
        "!curl https://static01.nyt.com/images/2021/02/19/world/19storm-briefing-texas-fire/19storm-briefing-texas-fire-articleLarge.jpg --output predict.jpg\n",
        "#!curl https://transcode-v2.app.engoo.com/image/fetch/f_auto,c_limit,w_1280,h_800,dpr_2/https://assets.app.engoo.com/images/6b7V4hOYczy7ODsXQtkVAg.jpeg --output predict.jpg\n",
        "#!curl https://img.seoul.co.kr/img/upload/2020/07/01/SSI_20200701210037.jpg --output predict.jpg"
      ],
      "metadata": {
        "id": "okVsfG8MSyIM"
      },
      "execution_count": null,
      "outputs": []
    },
    {
      "cell_type": "code",
      "source": [
        "# 다운로드 이미지 확인\n",
        "img = image.load_img('predict.jpg')\n",
        "img"
      ],
      "metadata": {
        "id": "1ZTr5SIqTIbU"
      },
      "execution_count": null,
      "outputs": []
    },
    {
      "cell_type": "code",
      "source": [
        "# 이미지를 모델에 입력형태로 변환\n",
        "\n",
        "img = image.img_to_array(img)/255\n",
        "########### 여기에 ################\n",
        "########### 여기에 ################\n",
        "\n",
        "print(\"Image Shape\",img.shape)"
      ],
      "metadata": {
        "id": "9GOS92QETLrE"
      },
      "execution_count": null,
      "outputs": []
    },
    {
      "cell_type": "code",
      "source": [
        "# 예측 및 결과 확인\n",
        "########### 여기에 ################\n",
        "print(\"The predicted value is: \",prediction,\"and the predicted label is:\",class_indices[prediction])"
      ],
      "metadata": {
        "id": "2u3zhyPRTQ73"
      },
      "execution_count": null,
      "outputs": []
    }
  ]
}